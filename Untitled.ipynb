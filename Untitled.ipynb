{
 "cells": [
  {
   "cell_type": "code",
   "execution_count": 7,
   "id": "comic-laser",
   "metadata": {},
   "outputs": [],
   "source": [
    "#Init variables\n",
    "students = []\n",
    "courses = []\n",
    "marks = []"
   ]
  },
  {
   "cell_type": "markdown",
   "id": "forward-gambling",
   "metadata": {},
   "source": [
    "## Init all the classes"
   ]
  },
  {
   "cell_type": "code",
   "execution_count": 8,
   "id": "bigger-horizontal",
   "metadata": {},
   "outputs": [],
   "source": [
    "class student():\n",
    "    name = \"\"\n",
    "    dob = \"\"\n",
    "    studentid=0\n",
    "    def __init__(self, name, dob,studentid):\n",
    "        self.name=name\n",
    "        self.dob=dob\n",
    "        self.studentid=studentid\n",
    "\n",
    "    def display(self):\n",
    "        print(\"Student {0} has ID {1} with date of birth: {2}\".format(self.name,self.studentid,self.dob))\n",
    "        \n",
    "    def getID(self):\n",
    "        return self.studentid"
   ]
  },
  {
   "cell_type": "code",
   "execution_count": 9,
   "id": "wrong-section",
   "metadata": {},
   "outputs": [],
   "source": [
    "class course():\n",
    "    name = \"\"\n",
    "    courseid = 0\n",
    "    def __init__(self,name,courseid):\n",
    "        self.name=name\n",
    "        self.courseid=courseid\n",
    "    \n",
    "    def display(self):\n",
    "        print(\"Course id \" + self.courseid + \" name: \" + self.name)"
   ]
  },
  {
   "cell_type": "code",
   "execution_count": 20,
   "id": "patent-finish",
   "metadata": {},
   "outputs": [],
   "source": [
    "class mark():\n",
    "    cid=0\n",
    "    sid=0\n",
    "    #encapsulation\n",
    "    __value=0\n",
    "    def __init__(self,sid,cid):\n",
    "        self.sid=sid\n",
    "        self.cid=cid\n",
    "\n",
    "    def setMark(self,value):\n",
    "        self.__value = value\n",
    "\n",
    "    def printMark(self):\n",
    "        studentMark = next(item for item in students if int(item.studentid) == int(self.sid))\n",
    "        courseMark = next(item for item in courses if int(item.courseid)==int(self.cid))\n",
    "        print(\"Mark for student {0} at course {1} is {2}\".format(studentMark.name,courseMark.name,self.__value))"
   ]
  },
  {
   "cell_type": "code",
   "execution_count": 11,
   "id": "behavioral-witness",
   "metadata": {},
   "outputs": [],
   "source": [
    "def InputFunction():\n",
    "    nS=int(input(\"Num of students: \"))\n",
    "    #intput stuendts\n",
    "    for i in range (1,nS+1):\n",
    "        id = input(\"Enter \" + str(i) + \" student ID: \")\n",
    "        name = input(\"Student name: \")\n",
    "        dob = input(\"Students's date of birth: \")\n",
    "        students.append(student(name,dob,id))\n",
    "    #input courses\n",
    "    nC = int(input(\"Enter number of courses: \"))\n",
    "    for i in range(1,nC+1):\n",
    "        id = input(\"Course ID: \")\n",
    "        name = input(\"Course name: \")\n",
    "        courses.append(course(name,id))"
   ]
  },
  {
   "cell_type": "code",
   "execution_count": 12,
   "id": "secret-yesterday",
   "metadata": {},
   "outputs": [],
   "source": [
    "def printStudents():\n",
    "    for student in students:\n",
    "        student.display()"
   ]
  },
  {
   "cell_type": "code",
   "execution_count": 13,
   "id": "appointed-applicant",
   "metadata": {},
   "outputs": [],
   "source": [
    "def printCourses():\n",
    "    for course in courses:\n",
    "        course.display()"
   ]
  },
  {
   "cell_type": "code",
   "execution_count": 22,
   "id": "chubby-employee",
   "metadata": {},
   "outputs": [],
   "source": [
    "def printMark():\n",
    "    #choose a student\n",
    "    printStudents()\n",
    "    sID = input(\"Which student? (Select by id): \")\n",
    "    for mark in marks:\n",
    "        if (mark.sid == sID):\n",
    "            mark.printMark()"
   ]
  },
  {
   "cell_type": "markdown",
   "id": "silver-standard",
   "metadata": {},
   "source": [
    "## AddMark"
   ]
  },
  {
   "cell_type": "code",
   "execution_count": 15,
   "id": "excess-tobacco",
   "metadata": {},
   "outputs": [],
   "source": [
    "def addMark():\n",
    "    printStudents()\n",
    "    sID = input(\"Select a student by his id: \")\n",
    "    print(\"You selected \" + str(sID))\n",
    "    for student in students:\n",
    "        print(\"checking \" + student.getID())\n",
    "        if (int(student.getID()) == int(sID)):\n",
    "            print(\"Matched!\")\n",
    "            printCourses()\n",
    "            cID = int(input(\"Select a course by its id: \"))\n",
    "            m = input(\"Enter mark:\")\n",
    "            obm=mark(sID,cID)\n",
    "            obm.setMark(m)\n",
    "            marks.append(obm)"
   ]
  },
  {
   "cell_type": "code",
   "execution_count": null,
   "id": "agreed-district",
   "metadata": {},
   "outputs": [
    {
     "name": "stdout",
     "output_type": "stream",
     "text": [
      "\n",
      "    (                                                                                     \n",
      "    )\\ )    )        (                   )                                                \n",
      "    (()/( ( /(   (    )\\ )   (         ( /(      )       )            )  (  (     (   (    \n",
      "    /(_)))\\()) ))\\  (()/(  ))\\  (     )\\())    (     ( /(   (     ( /(  )\\))(   ))\\  )(   \n",
      "    (_)) (_))/ /((_)  ((_))/((_) )\\ ) (_))/     )\\  ' )(_))  )\\ )  )(_))((_))\\  /((_)(()\\  \n",
      "    / __|| |_ (_))(   _| |(_))  _(_/( | |_    _((_)) ((_)_  _(_/( ((_)_  (()(_)(_))   ((_) \n",
      "    \\__ \\|  _|| || |/ _` |/ -_)| ' \\))|  _|  | '  \\()/ _` || ' \\))/ _` |/ _` | / -_) | '_| \n",
      "    |___/ \\__| \\_,_|\\__,_|\\___||_||_|  \\__|  |_|_|_| \\__,_||_||_| \\__,_|\\__, | \\___| |_|   \n",
      "                                                                        |___/              \n",
      "    by ngocanhnckh                                                                BI10-010\n",
      "    --------------------------------------------------------------------------------------\n",
      "    Please select an option from menu:\n",
      "    1. Input students and courese\n",
      "    2. Add mark\n",
      "    3. List current student list\n",
      "    4. List current course list\n",
      "    5. List current mark list\n",
      "    6. Exit\n",
      "    \n",
      "Your option: 3\n",
      "Student A has ID 1 with date of birth: 23\n",
      "Your option: 4\n",
      "Course id 1 name: Py\n",
      "Your option: 5\n",
      "Student A has ID 1 with date of birth: 23\n",
      "Which student? (Select by id): 1\n",
      "Mark for student A at course Py is 10\n"
     ]
    }
   ],
   "source": [
    "def main():\n",
    "    \n",
    "    option = \"-1\"\n",
    "    print(\"\"\"\n",
    "    (                                                                                     \n",
    "    )\\ )    )        (                   )                                                \n",
    "    (()/( ( /(   (    )\\ )   (         ( /(      )       )            )  (  (     (   (    \n",
    "    /(_)))\\()) ))\\  (()/(  ))\\  (     )\\())    (     ( /(   (     ( /(  )\\))(   ))\\  )(   \n",
    "    (_)) (_))/ /((_)  ((_))/((_) )\\ ) (_))/     )\\  ' )(_))  )\\ )  )(_))((_))\\  /((_)(()\\  \n",
    "    / __|| |_ (_))(   _| |(_))  _(_/( | |_    _((_)) ((_)_  _(_/( ((_)_  (()(_)(_))   ((_) \n",
    "    \\__ \\|  _|| || |/ _` |/ -_)| ' \\))|  _|  | '  \\()/ _` || ' \\))/ _` |/ _` | / -_) | '_| \n",
    "    |___/ \\__| \\_,_|\\__,_|\\___||_||_|  \\__|  |_|_|_| \\__,_||_||_| \\__,_|\\__, | \\___| |_|   \n",
    "                                                                        |___/              \n",
    "    by ngocanhnckh                                                                BI10-010\n",
    "    --------------------------------------------------------------------------------------\n",
    "    Please select an option from menu:\n",
    "    1. Input students and courese\n",
    "    2. Add mark\n",
    "    3. List current student list\n",
    "    4. List current course list\n",
    "    5. List current mark list\n",
    "    6. Exit\n",
    "    \"\"\")\n",
    "    while (option != \"6\"):\n",
    "      \n",
    "        option = input(\"Your option: \")\n",
    "        if (option==\"1\"):\n",
    "            InputFunction()\n",
    "        if (option==\"2\"):\n",
    "            addMark()\n",
    "        if (option==\"3\"):\n",
    "            printStudents()\n",
    "        if (option==\"4\"):\n",
    "            printCourses()\n",
    "        if (option==\"5\"):\n",
    "            printMark()\n",
    "    print(\"Just a friendly goodbye\")\n",
    "if __name__ == \"__main__\":\n",
    "    main()"
   ]
  },
  {
   "cell_type": "code",
   "execution_count": null,
   "id": "secret-witch",
   "metadata": {},
   "outputs": [],
   "source": []
  },
  {
   "cell_type": "code",
   "execution_count": null,
   "id": "directed-california",
   "metadata": {},
   "outputs": [],
   "source": []
  },
  {
   "cell_type": "code",
   "execution_count": null,
   "id": "opened-edward",
   "metadata": {},
   "outputs": [],
   "source": []
  },
  {
   "cell_type": "code",
   "execution_count": null,
   "id": "tired-cigarette",
   "metadata": {},
   "outputs": [],
   "source": []
  },
  {
   "cell_type": "code",
   "execution_count": null,
   "id": "considerable-photographer",
   "metadata": {},
   "outputs": [],
   "source": []
  },
  {
   "cell_type": "code",
   "execution_count": null,
   "id": "emerging-lunch",
   "metadata": {},
   "outputs": [],
   "source": []
  },
  {
   "cell_type": "code",
   "execution_count": null,
   "id": "crude-habitat",
   "metadata": {},
   "outputs": [],
   "source": []
  }
 ],
 "metadata": {
  "kernelspec": {
   "display_name": "Python 3",
   "language": "python",
   "name": "python3"
  },
  "language_info": {
   "codemirror_mode": {
    "name": "ipython",
    "version": 3
   },
   "file_extension": ".py",
   "mimetype": "text/x-python",
   "name": "python",
   "nbconvert_exporter": "python",
   "pygments_lexer": "ipython3",
   "version": "3.9.2"
  }
 },
 "nbformat": 4,
 "nbformat_minor": 5
}

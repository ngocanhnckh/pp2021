{
 "cells": [
  {
   "cell_type": "code",
   "execution_count": 2,
   "id": "labeled-steering",
   "metadata": {},
   "outputs": [],
   "source": [
    "#Init variables\n",
    "students = list()\n",
    "courses = []\n",
    "mark = []"
   ]
  },
  {
   "cell_type": "code",
   "execution_count": 4,
   "id": "critical-maria",
   "metadata": {},
   "outputs": [],
   "source": [
    "#Input functions\n",
    "def InputFunction():\n",
    "    nS=int(input(\"Num of students: \"))\n",
    "    #intput stuendts\n",
    "    for i in range (1,nS):\n",
    "        id = input(\"Enter \" + str(i) + \" student ID: \")\n",
    "        name = input(\"Student name: \")\n",
    "        dob = input(\"Students's date of birth\")\n",
    "        students.append({\"id\": id,\"name\":name,\"date of birth\":dob})\n",
    "    #input courses\n",
    "    nC = int(input(\"Enter number of courses: \"))\n",
    "    for i in range(1,nC):\n",
    "        id = input(\"Course ID: \")\n",
    "        name = input(\"Course name: \")\n",
    "        courses.append({\"id\":id,\"name\":name})"
   ]
  },
  {
   "cell_type": "code",
   "execution_count": 9,
   "id": "unsigned-april",
   "metadata": {},
   "outputs": [],
   "source": [
    "def printStudents():\n",
    "    print(students)"
   ]
  },
  {
   "cell_type": "code",
   "execution_count": 10,
   "id": "variable-adjustment",
   "metadata": {},
   "outputs": [],
   "source": [
    "def printCourses():\n",
    "    print(courses)"
   ]
  },
  {
   "cell_type": "code",
   "execution_count": 14,
   "id": "outside-drill",
   "metadata": {},
   "outputs": [],
   "source": [
    "def printMark():\n",
    "    #print all marks\n",
    "    print(mark)\n",
    "    printStudents()\n",
    "    sID = input(\"Which student? (Select by id)\")\n",
    "    student = next(item for item in students if item[\"id\"] == sID)\n",
    "    print(\"Showing mark for student \" + student.get(\"name\"))\n",
    "    for m in mark:\n",
    "        if m['studentID']==sID:\n",
    "            print(m)"
   ]
  },
  {
   "cell_type": "code",
   "execution_count": 7,
   "id": "superior-turtle",
   "metadata": {},
   "outputs": [],
   "source": [
    "def addMark():\n",
    "    printStudents()\n",
    "    sID = int(input(\"Select a student by his id: \"))\n",
    "    printCourses()\n",
    "    cID = int(input(\"Select a course by its id\"))\n",
    "    m = input(\"Enter mark:\")\n",
    "    mark.append({\"studentID\":sID,\"courseID\":cID,\"mark\":m})"
   ]
  },
  {
   "cell_type": "code",
   "execution_count": 5,
   "id": "dutch-moderator",
   "metadata": {},
   "outputs": [
    {
     "name": "stdout",
     "output_type": "stream",
     "text": [
      "Num of students: 3\n",
      "Enter 1 student ID: 1\n",
      "Student name: Nguyen Ngoc Anh\n",
      "Students's date of birth2303\n",
      "Enter 2 student ID: 2\n",
      "Student name: Tran Ngoc Hieu Nam\n",
      "Students's date of birth2403\n",
      "Enter number of courses: 2\n",
      "Course ID: 1\n",
      "Course name: Math\n"
     ]
    }
   ],
   "source": [
    "InputFunction()"
   ]
  },
  {
   "cell_type": "code",
   "execution_count": 11,
   "id": "alive-mixer",
   "metadata": {},
   "outputs": [
    {
     "name": "stdout",
     "output_type": "stream",
     "text": [
      "[{'id': '1', 'name': 'Nguyen Ngoc Anh', 'date of birth': '2303'}, {'id': '2', 'name': 'Tran Ngoc Hieu Nam', 'date of birth': '2403'}]\n",
      "Select a student by his id: 1\n",
      "[{'id': '1', 'name': 'Math'}]\n",
      "Select a course by its id1\n",
      "Enter mark:20\n"
     ]
    }
   ],
   "source": [
    "addMark()"
   ]
  },
  {
   "cell_type": "code",
   "execution_count": 15,
   "id": "encouraging-prior",
   "metadata": {},
   "outputs": [
    {
     "name": "stdout",
     "output_type": "stream",
     "text": [
      "[{'studentID': 1, 'courseID': 1, 'mark': '20'}]\n",
      "[{'id': '1', 'name': 'Nguyen Ngoc Anh', 'date of birth': '2303'}, {'id': '2', 'name': 'Tran Ngoc Hieu Nam', 'date of birth': '2403'}]\n",
      "Which student? (Select by id)1\n",
      "Showing mark for student Nguyen Ngoc Anh\n",
      "{'studentID': 1, 'courseID': 1, 'mark': '20'}\n"
     ]
    }
   ],
   "source": [
    "printMark()"
   ]
  },
  {
   "cell_type": "code",
   "execution_count": null,
   "id": "growing-testimony",
   "metadata": {},
   "outputs": [],
   "source": []
  }
 ],
 "metadata": {
  "kernelspec": {
   "display_name": "Python 3",
   "language": "python",
   "name": "python3"
  },
  "language_info": {
   "codemirror_mode": {
    "name": "ipython",
    "version": 3
   },
   "file_extension": ".py",
   "mimetype": "text/x-python",
   "name": "python",
   "nbconvert_exporter": "python",
   "pygments_lexer": "ipython3",
   "version": "3.9.2"
  }
 },
 "nbformat": 4,
 "nbformat_minor": 5
}
